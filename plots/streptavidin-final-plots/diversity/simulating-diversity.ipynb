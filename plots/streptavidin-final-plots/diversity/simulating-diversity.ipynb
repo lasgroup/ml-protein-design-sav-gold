{
 "cells": [
  {
   "cell_type": "code",
   "execution_count": 1,
   "id": "c0587685-ad51-4f57-9ef5-32fa09b66324",
   "metadata": {},
   "outputs": [],
   "source": [
    "import torch \n",
    "import matplotlib.pyplot as plt \n",
    "import numpy as np\n",
    "import seaborn as sns \n",
    "import pandas as pd \n",
    "from mutedpy.experiments.streptavidin.streptavidin_loader import *\n",
    "from sklearn.metrics import r2_score\n",
    "from mutedpy.experiments.streptavidin.streptavidin_loader import tobias_colors"
   ]
  },
  {
   "cell_type": "code",
   "execution_count": 2,
   "id": "c4ad0c48-63c6-45a4-9d53-aca7d6caf9f3",
   "metadata": {},
   "outputs": [],
   "source": [
    "aa_predictions_round_2 = pd.read_csv(\"../../../mutedpy/experiments/streptavidin/active_learning_2/AA_model/lists/predictions-aa.csv\")"
   ]
  },
  {
   "cell_type": "code",
   "execution_count": 3,
   "id": "af37d88a-c39a-4dfe-847c-266f6d0e01e9",
   "metadata": {},
   "outputs": [],
   "source": [
    "# load the proposed scheme\n",
    "selection = pd.read_csv(\"../../../mutedpy/experiments/streptavidin/active_learning_2/AA_model/lists/safe+balanced-aa.csv\")['variant']"
   ]
  },
  {
   "cell_type": "code",
   "execution_count": 4,
   "id": "2db7ddf4-e231-4fa4-b74b-146d20751b62",
   "metadata": {},
   "outputs": [],
   "source": [
    "# Lets pick top prediction from round_2"
   ]
  },
  {
   "cell_type": "code",
   "execution_count": 5,
   "id": "db52ead1-0819-4199-91ef-142078610193",
   "metadata": {},
   "outputs": [],
   "source": [
    "top_predictions = aa_predictions_round_2.head(240)['variant']"
   ]
  },
  {
   "cell_type": "code",
   "execution_count": 6,
   "id": "5523528e-f238-4d9d-9506-8e6ce3acf8e7",
   "metadata": {},
   "outputs": [],
   "source": [
    "from mutedpy.protein_learning.kernels.blosum_kernel import blosum_kernel \n",
    "from mutedpy.protein_learning.kernels.hamming_kernel import hamming_kernel\n",
    "from mutedpy.protein_learning.kernels.onehot_kernel import onehot_kernel"
   ]
  },
  {
   "cell_type": "code",
   "execution_count": 7,
   "id": "8ae45cc7-546b-460e-ba75-e4e21352eb8e",
   "metadata": {},
   "outputs": [
    {
     "name": "stderr",
     "output_type": "stream",
     "text": [
      "2023-10-11 10:49:25.625731: I tensorflow/core/platform/cpu_feature_guard.cc:193] This TensorFlow binary is optimized with oneAPI Deep Neural Network Library (oneDNN) to use the following CPU instructions in performance-critical operations:  AVX2 AVX512F AVX512_VNNI FMA\n",
      "To enable them in other operations, rebuild TensorFlow with the appropriate compiler flags.\n",
      "2023-10-11 10:49:25.768074: I tensorflow/core/util/port.cc:104] oneDNN custom operations are on. You may see slightly different numerical results due to floating-point round-off errors from different computation orders. To turn them off, set the environment variable `TF_ENABLE_ONEDNN_OPTS=0`.\n",
      "2023-10-11 10:49:26.281130: W tensorflow/compiler/xla/stream_executor/platform/default/dso_loader.cc:64] Could not load dynamic library 'libnvinfer.so.7'; dlerror: libnvinfer.so.7: cannot open shared object file: No such file or directory\n",
      "2023-10-11 10:49:26.281285: W tensorflow/compiler/xla/stream_executor/platform/default/dso_loader.cc:64] Could not load dynamic library 'libnvinfer_plugin.so.7'; dlerror: libnvinfer_plugin.so.7: cannot open shared object file: No such file or directory\n",
      "2023-10-11 10:49:26.281294: W tensorflow/compiler/tf2tensorrt/utils/py_utils.cc:38] TF-TRT Warning: Cannot dlopen some TensorRT libraries. If you would like to use Nvidia GPU with TensorRT, please make sure the missing libraries mentioned above are installed properly.\n"
     ]
    },
    {
     "name": "stdout",
     "output_type": "stream",
     "text": [
      "dict_keys(['feature_mask', 'feature_names', 'kernel', 'kernel_object', 'ard_gamma', 'noise_std', 'x', 'y', 'feature_loader', 'Sigma'])\n",
      "Fitting second round fit\n",
      "{'kappa': 3.0, 'group': [0, 1, 2, 3, 4, 5, 6, 7, 8, 9, 10, 11, 12, 13, 14, 15, 16, 17, 18, 19], 'ard_gamma': tensor([ 7.8137e+00,  5.4357e+00,  2.8166e+00,  2.8939e+00,  4.1474e+01,\n",
      "         3.6573e+00,  9.8912e+00,  4.7052e+00,  5.3773e+00,  6.5864e+00,\n",
      "         1.4200e+01, -2.0355e+00,  1.0914e+05,  5.0735e+00,  5.8495e-01,\n",
      "         7.0306e+00,  1.2471e+01,  2.6259e+00,  4.2813e+00,  5.3976e+00],\n",
      "       dtype=torch.float64), 'nu': 2.5}\n",
      "Amino-acids embedding loaded.\n"
     ]
    }
   ],
   "source": [
    "# load model \n",
    "from mutedpy.experiments.streptavidin.active_learning.compare_different_models import load_model\n",
    "from mutedpy.utils.protein_operator import ProteinOperator\n",
    "Op = ProteinOperator()\n",
    "model_params = \"/../../../mutedpy/experiments/streptavidin/active_learning_2/AA_model/params/final_model_params.p\"\n",
    "GP, embed, paramns = load_model(model_params, \"second round fit\", vintage = True, model_params_return = True)\n",
    "#GP.feature_loader.feature_loaders[0].stacking = False"
   ]
  },
  {
   "cell_type": "code",
   "execution_count": 8,
   "id": "2eef3e9a-c462-4c8a-bbe7-1d1811f359ba",
   "metadata": {},
   "outputs": [],
   "source": [
    "def calculate_div_score(variants):\n",
    "    x = embed(torch.from_numpy(Op.translate_mutation_series(variants)))\n",
    "    _, K_opt = GP.mean_std(x, full=True)\n",
    "    n = len(variants)\n",
    "    #print (K_opt)\n",
    "    print (torch.linalg.slogdet(K_opt))\n",
    "    return float(torch.exp(torch.linalg.slogdet(K_opt)[1]*(1./n) - np.log(torch.trace(K_opt)/n)))"
   ]
  },
  {
   "cell_type": "code",
   "execution_count": 9,
   "id": "f8ca861a-3d8f-4556-ab6d-662b15bf8eea",
   "metadata": {},
   "outputs": [
    {
     "name": "stdout",
     "output_type": "stream",
     "text": [
      "torch.return_types.linalg_slogdet(\n",
      "sign=tensor(1., dtype=torch.float64),\n",
      "logabsdet=tensor(-2041.3616, dtype=torch.float64))\n"
     ]
    }
   ],
   "source": [
    "td = calculate_div_score(top_predictions)"
   ]
  },
  {
   "cell_type": "code",
   "execution_count": 10,
   "id": "215ecf27-ebe7-4272-b7be-d17e15dce300",
   "metadata": {},
   "outputs": [
    {
     "name": "stdout",
     "output_type": "stream",
     "text": [
      "torch.return_types.linalg_slogdet(\n",
      "sign=tensor(1., dtype=torch.float64),\n",
      "logabsdet=tensor(-1465.4358, dtype=torch.float64))\n"
     ]
    }
   ],
   "source": [
    "sd = calculate_div_score(selection)"
   ]
  },
  {
   "cell_type": "code",
   "execution_count": 11,
   "id": "d4e24e3f-e787-451b-8809-8c65ffc12487",
   "metadata": {},
   "outputs": [],
   "source": [
    "def calculate_div_score_custom_kernel(kernel, variants):\n",
    "    n = len(variants)\n",
    "    K_opt = kernel(variants, variants) + GP.s * torch.eye(n).double()\n",
    "    return float(torch.exp(torch.linalg.slogdet(K_opt)[1]*(1./n) - np.log(torch.trace(K_opt)/n)))"
   ]
  },
  {
   "cell_type": "code",
   "execution_count": 12,
   "id": "27a516dc-da77-46d1-8c15-3ebf6cfd478a",
   "metadata": {},
   "outputs": [],
   "source": [
    "tb, sb = calculate_div_score_custom_kernel(blosum_kernel, top_predictions), calculate_div_score_custom_kernel(blosum_kernel, selection)"
   ]
  },
  {
   "cell_type": "code",
   "execution_count": 13,
   "id": "2e67abbb-27df-4a8a-ac41-af0386a5ed87",
   "metadata": {},
   "outputs": [],
   "source": [
    "th, sh = calculate_div_score_custom_kernel(onehot_kernel, top_predictions), calculate_div_score_custom_kernel(onehot_kernel, selection)"
   ]
  },
  {
   "cell_type": "code",
   "execution_count": 14,
   "id": "8439a8dc-8180-4a0e-956c-01a790eb3677",
   "metadata": {},
   "outputs": [],
   "source": [
    "ratiod = sd/td\n",
    "ratiob = sb/tb\n",
    "ratioh = sh/th"
   ]
  },
  {
   "cell_type": "code",
   "execution_count": 15,
   "id": "f60f1bbd-6da8-4116-bac4-63e22cf1cf96",
   "metadata": {},
   "outputs": [
    {
     "data": {
      "text/plain": [
       "1.0883119296341315"
      ]
     },
     "execution_count": 15,
     "metadata": {},
     "output_type": "execute_result"
    }
   ],
   "source": [
    "ratioh"
   ]
  },
  {
   "cell_type": "code",
   "execution_count": 16,
   "id": "076c27ce-48ed-4594-846b-92d1c709ac30",
   "metadata": {},
   "outputs": [
    {
     "data": {
      "text/plain": [
       "20.19928295603973"
      ]
     },
     "execution_count": 16,
     "metadata": {},
     "output_type": "execute_result"
    }
   ],
   "source": [
    "ratiod"
   ]
  },
  {
   "cell_type": "code",
   "execution_count": null,
   "id": "05f6c5b3-c792-4cfe-857b-85fa54c65d95",
   "metadata": {},
   "outputs": [],
   "source": []
  },
  {
   "cell_type": "code",
   "execution_count": 17,
   "id": "c1ca8e9d-7f5a-4590-8562-2ecdf40457b8",
   "metadata": {},
   "outputs": [],
   "source": [
    "data_frame = pd.DataFrame(data = {'Diversity score':[tb,sb,td,sd,th,sh],'Diversity type':['BLOSUM','BLOSUM','GP','GP','Hamming','Hamming'],'Batch':['TopX','Our selection','TopX','Our selection','TopX','Our selection']})"
   ]
  },
  {
   "cell_type": "code",
   "execution_count": 18,
   "id": "660a87c3-84a1-429e-90bb-97ada7dc4b1b",
   "metadata": {},
   "outputs": [],
   "source": [
    "data_frame[\"log Diversity score\"] = -np.log(data_frame[\"Diversity score\"])"
   ]
  },
  {
   "cell_type": "code",
   "execution_count": 21,
   "id": "625dac9a-831f-4e26-a7a4-ccdb2f91cfaf",
   "metadata": {},
   "outputs": [
    {
     "data": {
      "image/png": "[encoded data removed]",
      "text/plain": [
       "<Figure size 742x300 with 1 Axes>"
      ]
     },
     "metadata": {},
     "output_type": "display_data"
    }
   ],
   "source": [
    "import seaborn as sns\n",
    "import matplotlib.pyplot as plt\n",
    "\n",
    "g = sns.catplot(\n",
    "    data=data_frame, kind=\"bar\",\n",
    "    x=\"Diversity type\", y=\"Diversity score\", hue=\"Batch\", palette=\"dark\", alpha=.6, height =3, aspect=2)\n",
    "g._legend.set_bbox_to_anchor((0.5, 0.5))\n",
    "\n",
    "for e,ratio in enumerate([ratiob, ratiod, ratioh]):\n",
    "    ax = g.ax\n",
    "    ax.annotate(\"+\"+str(-int(100-100*(ratio))) +\"%\",\n",
    "                xy=(0.2+e, 0.1), xycoords='data',\n",
    "                xytext=(-0.2+e, 0.05), textcoords='data',\n",
    "                arrowprops=dict(arrowstyle=\"->\",\n",
    "                                connectionstyle=\"arc3\"))\n",
    "    \n",
    "plt.savefig(\"diversity.pdf\",dpi = 200,bbox_inches='tight')\n",
    "plt.show()\n"
   ]
  },
  {
   "cell_type": "code",
   "execution_count": null,
   "id": "42f7eb32-2fb9-4f17-ad2a-54be74eb54e5",
   "metadata": {},
   "outputs": [],
   "source": []
  },
  {
   "cell_type": "code",
   "execution_count": null,
   "id": "e30f4390-27fa-4f6f-91de-63e8a971fb53",
   "metadata": {},
   "outputs": [],
   "source": []
  }
 ],
 "metadata": {
  "kernelspec": {
   "display_name": "Python 3 (ipykernel)",
   "language": "python",
   "name": "python3"
  },
  "language_info": {
   "codemirror_mode": {
    "name": "ipython",
    "version": 3
   },
   "file_extension": ".py",
   "mimetype": "text/x-python",
   "name": "python",
   "nbconvert_exporter": "python",
   "pygments_lexer": "ipython3",
   "version": "3.9.18"
  }
 },
 "nbformat": 4,
 "nbformat_minor": 5
}
