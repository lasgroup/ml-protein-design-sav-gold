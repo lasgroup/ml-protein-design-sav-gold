{
 "cells": [
  {
   "cell_type": "code",
   "execution_count": 1,
   "metadata": {
    "pycharm": {
     "is_executing": false
    },
    "tags": []
   },
   "outputs": [],
   "source": [
    "from mutedpy.experiments.streptavidin.streptavidin_loader import load_first_round\n",
    "\n"
   ]
  },
  {
   "cell_type": "code",
   "execution_count": 2,
   "metadata": {
    "collapsed": false,
    "jupyter": {
     "outputs_hidden": false
    },
    "pycharm": {
     "is_executing": false,
     "name": "#%%\n"
    }
   },
   "outputs": [
    {
     "data": {
      "text/html": [
       "<div>\n",
       "<style scoped>\n",
       "    .dataframe tbody tr th:only-of-type {\n",
       "        vertical-align: middle;\n",
       "    }\n",
       "\n",
       "    .dataframe tbody tr th {\n",
       "        vertical-align: top;\n",
       "    }\n",
       "\n",
       "    .dataframe thead th {\n",
       "        text-align: right;\n",
       "    }\n",
       "</style>\n",
       "<table border=\"1\" class=\"dataframe\">\n",
       "  <thead>\n",
       "    <tr style=\"text-align: right;\">\n",
       "      <th></th>\n",
       "      <th>well</th>\n",
       "      <th>indole</th>\n",
       "      <th>OD</th>\n",
       "      <th>plate_library</th>\n",
       "      <th>variant</th>\n",
       "      <th>norm_TSNAK</th>\n",
       "      <th>Mutation</th>\n",
       "      <th>Fitness</th>\n",
       "      <th>class</th>\n",
       "      <th>Mutation_n</th>\n",
       "      <th>LogFitness</th>\n",
       "    </tr>\n",
       "  </thead>\n",
       "  <tbody>\n",
       "    <tr>\n",
       "      <th>0</th>\n",
       "      <td>E4</td>\n",
       "      <td>0.1225</td>\n",
       "      <td>0.1079</td>\n",
       "      <td>8060.0</td>\n",
       "      <td>TALFQ</td>\n",
       "      <td>30.807874</td>\n",
       "      <td>T111T+S112A+N118L+A119F+K121Q</td>\n",
       "      <td>30.807874</td>\n",
       "      <td>1st-5site</td>\n",
       "      <td>S112A+N118L+A119F+K121Q</td>\n",
       "      <td>1.488662</td>\n",
       "    </tr>\n",
       "    <tr>\n",
       "      <th>1</th>\n",
       "      <td>C2</td>\n",
       "      <td>0.1436</td>\n",
       "      <td>0.1270</td>\n",
       "      <td>8057.0</td>\n",
       "      <td>QWNAS</td>\n",
       "      <td>19.585782</td>\n",
       "      <td>T111Q+S112W+N118N+A119A+K121S</td>\n",
       "      <td>19.585782</td>\n",
       "      <td>1st-5site</td>\n",
       "      <td>T111Q+S112W+K121S</td>\n",
       "      <td>1.291941</td>\n",
       "    </tr>\n",
       "    <tr>\n",
       "      <th>2</th>\n",
       "      <td>D7</td>\n",
       "      <td>0.1264</td>\n",
       "      <td>0.1399</td>\n",
       "      <td>8061.0</td>\n",
       "      <td>TAQAL</td>\n",
       "      <td>17.675834</td>\n",
       "      <td>T111T+S112A+N118Q+A119A+K121L</td>\n",
       "      <td>17.675834</td>\n",
       "      <td>1st-5site</td>\n",
       "      <td>S112A+N118Q+K121L</td>\n",
       "      <td>1.247380</td>\n",
       "    </tr>\n",
       "    <tr>\n",
       "      <th>3</th>\n",
       "      <td>C2</td>\n",
       "      <td>0.1686</td>\n",
       "      <td>0.1685</td>\n",
       "      <td>8069.0</td>\n",
       "      <td>TFGWR</td>\n",
       "      <td>16.727843</td>\n",
       "      <td>T111T+S112F+N118G+A119W+K121R</td>\n",
       "      <td>16.727843</td>\n",
       "      <td>1st-5site</td>\n",
       "      <td>S112F+N118G+A119W+K121R</td>\n",
       "      <td>1.223440</td>\n",
       "    </tr>\n",
       "    <tr>\n",
       "      <th>4</th>\n",
       "      <td>B11</td>\n",
       "      <td>0.0704</td>\n",
       "      <td>0.1209</td>\n",
       "      <td>8060.0</td>\n",
       "      <td>HFLSQ</td>\n",
       "      <td>15.801324</td>\n",
       "      <td>T111H+S112F+N118L+A119S+K121Q</td>\n",
       "      <td>15.801324</td>\n",
       "      <td>1st-5site</td>\n",
       "      <td>T111H+S112F+N118L+A119S+K121Q</td>\n",
       "      <td>1.198693</td>\n",
       "    </tr>\n",
       "    <tr>\n",
       "      <th>...</th>\n",
       "      <td>...</td>\n",
       "      <td>...</td>\n",
       "      <td>...</td>\n",
       "      <td>...</td>\n",
       "      <td>...</td>\n",
       "      <td>...</td>\n",
       "      <td>...</td>\n",
       "      <td>...</td>\n",
       "      <td>...</td>\n",
       "      <td>...</td>\n",
       "      <td>...</td>\n",
       "    </tr>\n",
       "    <tr>\n",
       "      <th>3031</th>\n",
       "      <td>NaN</td>\n",
       "      <td>0.0175</td>\n",
       "      <td>0.2197</td>\n",
       "      <td>NaN</td>\n",
       "      <td>TDNAG</td>\n",
       "      <td>0.652297</td>\n",
       "      <td>T111T+S112D+N118N+A119A+K121G</td>\n",
       "      <td>0.652297</td>\n",
       "      <td>1st-2site</td>\n",
       "      <td>S112D+K121G</td>\n",
       "      <td>-0.185555</td>\n",
       "    </tr>\n",
       "    <tr>\n",
       "      <th>3032</th>\n",
       "      <td>NaN</td>\n",
       "      <td>0.0375</td>\n",
       "      <td>0.1022</td>\n",
       "      <td>NaN</td>\n",
       "      <td>TMNAW</td>\n",
       "      <td>3.004814</td>\n",
       "      <td>T111T+S112M+N118N+A119A+K121W</td>\n",
       "      <td>3.004814</td>\n",
       "      <td>1st-2site</td>\n",
       "      <td>S112M+K121W</td>\n",
       "      <td>0.477818</td>\n",
       "    </tr>\n",
       "    <tr>\n",
       "      <th>3033</th>\n",
       "      <td>NaN</td>\n",
       "      <td>0.0175</td>\n",
       "      <td>0.1195</td>\n",
       "      <td>NaN</td>\n",
       "      <td>TCNAV</td>\n",
       "      <td>1.199244</td>\n",
       "      <td>T111T+S112C+N118N+A119A+K121V</td>\n",
       "      <td>1.199244</td>\n",
       "      <td>1st-2site</td>\n",
       "      <td>S112C+K121V</td>\n",
       "      <td>0.078907</td>\n",
       "    </tr>\n",
       "    <tr>\n",
       "      <th>3034</th>\n",
       "      <td>NaN</td>\n",
       "      <td>0.0330</td>\n",
       "      <td>0.0846</td>\n",
       "      <td>NaN</td>\n",
       "      <td>TVNAW</td>\n",
       "      <td>3.194338</td>\n",
       "      <td>T111T+S112V+N118N+A119A+K121W</td>\n",
       "      <td>3.194338</td>\n",
       "      <td>1st-2site</td>\n",
       "      <td>S112V+K121W</td>\n",
       "      <td>0.504381</td>\n",
       "    </tr>\n",
       "    <tr>\n",
       "      <th>3035</th>\n",
       "      <td>NaN</td>\n",
       "      <td>0.0375</td>\n",
       "      <td>0.1098</td>\n",
       "      <td>NaN</td>\n",
       "      <td>TNNAF</td>\n",
       "      <td>2.796831</td>\n",
       "      <td>T111T+S112N+N118N+A119A+K121F</td>\n",
       "      <td>2.796831</td>\n",
       "      <td>1st-2site</td>\n",
       "      <td>S112N+K121F</td>\n",
       "      <td>0.446666</td>\n",
       "    </tr>\n",
       "  </tbody>\n",
       "</table>\n",
       "<p>3036 rows × 11 columns</p>\n",
       "</div>"
      ],
      "text/plain": [
       "     well  indole      OD  plate_library variant  norm_TSNAK  \\\n",
       "0      E4  0.1225  0.1079         8060.0   TALFQ   30.807874   \n",
       "1      C2  0.1436  0.1270         8057.0   QWNAS   19.585782   \n",
       "2      D7  0.1264  0.1399         8061.0   TAQAL   17.675834   \n",
       "3      C2  0.1686  0.1685         8069.0   TFGWR   16.727843   \n",
       "4     B11  0.0704  0.1209         8060.0   HFLSQ   15.801324   \n",
       "...   ...     ...     ...            ...     ...         ...   \n",
       "3031  NaN  0.0175  0.2197            NaN   TDNAG    0.652297   \n",
       "3032  NaN  0.0375  0.1022            NaN   TMNAW    3.004814   \n",
       "3033  NaN  0.0175  0.1195            NaN   TCNAV    1.199244   \n",
       "3034  NaN  0.0330  0.0846            NaN   TVNAW    3.194338   \n",
       "3035  NaN  0.0375  0.1098            NaN   TNNAF    2.796831   \n",
       "\n",
       "                           Mutation    Fitness      class  \\\n",
       "0     T111T+S112A+N118L+A119F+K121Q  30.807874  1st-5site   \n",
       "1     T111Q+S112W+N118N+A119A+K121S  19.585782  1st-5site   \n",
       "2     T111T+S112A+N118Q+A119A+K121L  17.675834  1st-5site   \n",
       "3     T111T+S112F+N118G+A119W+K121R  16.727843  1st-5site   \n",
       "4     T111H+S112F+N118L+A119S+K121Q  15.801324  1st-5site   \n",
       "...                             ...        ...        ...   \n",
       "3031  T111T+S112D+N118N+A119A+K121G   0.652297  1st-2site   \n",
       "3032  T111T+S112M+N118N+A119A+K121W   3.004814  1st-2site   \n",
       "3033  T111T+S112C+N118N+A119A+K121V   1.199244  1st-2site   \n",
       "3034  T111T+S112V+N118N+A119A+K121W   3.194338  1st-2site   \n",
       "3035  T111T+S112N+N118N+A119A+K121F   2.796831  1st-2site   \n",
       "\n",
       "                         Mutation_n  LogFitness  \n",
       "0           S112A+N118L+A119F+K121Q    1.488662  \n",
       "1                 T111Q+S112W+K121S    1.291941  \n",
       "2                 S112A+N118Q+K121L    1.247380  \n",
       "3           S112F+N118G+A119W+K121R    1.223440  \n",
       "4     T111H+S112F+N118L+A119S+K121Q    1.198693  \n",
       "...                             ...         ...  \n",
       "3031                    S112D+K121G   -0.185555  \n",
       "3032                    S112M+K121W    0.477818  \n",
       "3033                    S112C+K121V    0.078907  \n",
       "3034                    S112V+K121W    0.504381  \n",
       "3035                    S112N+K121F    0.446666  \n",
       "\n",
       "[3036 rows x 11 columns]"
      ]
     },
     "execution_count": 2,
     "metadata": {},
     "output_type": "execute_result"
    }
   ],
   "source": [
    "x,y,dts = load_first_round()\n",
    "dts"
   ]
  },
  {
   "cell_type": "code",
   "execution_count": 3,
   "metadata": {
    "collapsed": false,
    "jupyter": {
     "outputs_hidden": false
    },
    "pycharm": {
     "is_executing": false,
     "name": "#%%\n"
    }
   },
   "outputs": [
    {
     "name": "stdout",
     "output_type": "stream",
     "text": [
      "5-site\n",
      "Total 2211\n",
      "Unique 2083\n"
     ]
    }
   ],
   "source": [
    "mask5_site = dts['class']=='1st-5site'\n",
    "mask2_site = dts['class']=='1st-2site'\n",
    "print (\"5-site\")\n",
    "print (\"Total\",len(dts[mask5_site]['variant']))\n",
    "print (\"Unique\",len(dts[mask5_site]['variant'].unique()))"
   ]
  },
  {
   "cell_type": "code",
   "execution_count": 4,
   "metadata": {
    "collapsed": false,
    "jupyter": {
     "outputs_hidden": false
    },
    "pycharm": {
     "is_executing": false,
     "name": "#%%\n"
    }
   },
   "outputs": [
    {
     "name": "stdout",
     "output_type": "stream",
     "text": [
      "All\n",
      "Total 3036\n",
      "Unique 2465\n"
     ]
    }
   ],
   "source": [
    "print (\"All\")\n",
    "print (\"Total\",len(dts['variant']))\n",
    "print (\"Unique\",len(dts['variant'].unique()))"
   ]
  },
  {
   "cell_type": "code",
   "execution_count": 5,
   "metadata": {
    "collapsed": false,
    "jupyter": {
     "outputs_hidden": false
    },
    "pycharm": {
     "is_executing": false,
     "name": "#%%\n"
    }
   },
   "outputs": [
    {
     "name": "stdout",
     "output_type": "stream",
     "text": [
      "(CVXPY) Jan 10 11:38:20 AM: Encountered unexpected exception importing solver GLOP:\n",
      "RuntimeError('Version of ortools (9.4.1874) is too old. Expected >= 9.5.0.')\n",
      "(CVXPY) Jan 10 11:38:20 AM: Encountered unexpected exception importing solver PDLP:\n",
      "RuntimeError('Version of ortools (9.4.1874) is too old. Expected >= 9.5.0.')\n"
     ]
    },
    {
     "name": "stderr",
     "output_type": "stream",
     "text": [
      "2024-01-10 11:38:20.517429: I tensorflow/core/platform/cpu_feature_guard.cc:193] This TensorFlow binary is optimized with oneAPI Deep Neural Network Library (oneDNN) to use the following CPU instructions in performance-critical operations:  AVX2 AVX512F AVX512_VNNI FMA\n",
      "To enable them in other operations, rebuild TensorFlow with the appropriate compiler flags.\n",
      "2024-01-10 11:38:20.739810: I tensorflow/core/util/port.cc:104] oneDNN custom operations are on. You may see slightly different numerical results due to floating-point round-off errors from different computation orders. To turn them off, set the environment variable `TF_ENABLE_ONEDNN_OPTS=0`.\n",
      "2024-01-10 11:38:21.414561: W tensorflow/compiler/xla/stream_executor/platform/default/dso_loader.cc:64] Could not load dynamic library 'libnvinfer.so.7'; dlerror: libnvinfer.so.7: cannot open shared object file: No such file or directory\n",
      "2024-01-10 11:38:21.414616: W tensorflow/compiler/xla/stream_executor/platform/default/dso_loader.cc:64] Could not load dynamic library 'libnvinfer_plugin.so.7'; dlerror: libnvinfer_plugin.so.7: cannot open shared object file: No such file or directory\n",
      "2024-01-10 11:38:21.414620: W tensorflow/compiler/tf2tensorrt/utils/py_utils.cc:38] TF-TRT Warning: Cannot dlopen some TensorRT libraries. If you would like to use Nvidia GPU with TensorRT, please make sure the missing libraries mentioned above are installed properly.\n"
     ]
    }
   ],
   "source": [
    "from scipy.stats import shapiro\n",
    "from mutedpy.protein_learning.regression.regression_ards import ARDModelLearner, ProteinKernelLearner\n",
    "from stpy.helpers.helper import estimate_std\n",
    "from mutedpy.utils.sequences.sequence_utils import from_integer_to_variants\n",
    "import torch \n",
    "import matplotlib.pyplot as plt \n",
    "from matplotlib.gridspec import GridSpec\n",
    "from scipy.stats import norm\n",
    "import numpy as np "
   ]
  },
  {
   "cell_type": "code",
   "execution_count": 6,
   "metadata": {
    "collapsed": false,
    "jupyter": {
     "outputs_hidden": false
    },
    "pycharm": {
     "is_executing": false,
     "name": "#%%\n"
    }
   },
   "outputs": [
    {
     "name": "stdout",
     "output_type": "stream",
     "text": [
      "Estimating variance from: torch.Size([1082])\n",
      "Estimate of residuals\n",
      "Estimating variance from: torch.Size([1082])\n"
     ]
    }
   ],
   "source": [
    "residuals_mean_list, out, counts, residuals_mean, indices = estimate_std(x,y,verbose=True, return_all_residuals=True)\n",
    "print (\"Estimate of residuals\")\n",
    "s = estimate_std(x,y,verbose=True)"
   ]
  },
  {
   "cell_type": "code",
   "execution_count": 7,
   "metadata": {},
   "outputs": [],
   "source": [
    "out, indices, counts = torch.unique(x, dim=0, return_inverse=True, return_counts=True)"
   ]
  },
  {
   "cell_type": "code",
   "execution_count": 8,
   "metadata": {},
   "outputs": [
    {
     "name": "stdout",
     "output_type": "stream",
     "text": [
      "Data points from variants that appear at least once\n"
     ]
    },
    {
     "data": {
      "text/plain": [
       "tensor(511)"
      ]
     },
     "execution_count": 8,
     "metadata": {},
     "output_type": "execute_result"
    }
   ],
   "source": [
    "print (\"Data points from variants that appear at least once\")\n",
    "torch.sum(counts > 1)"
   ]
  },
  {
   "cell_type": "code",
   "execution_count": 9,
   "metadata": {
    "collapsed": false,
    "jupyter": {
     "outputs_hidden": false
    },
    "pycharm": {
     "is_executing": false,
     "name": "#%%\n"
    }
   },
   "outputs": [
    {
     "name": "stdout",
     "output_type": "stream",
     "text": [
      "Estimating variance from: torch.Size([1082])\n",
      "Estimate of the std. tensor(0.1457, dtype=torch.float64)\n"
     ]
    }
   ],
   "source": [
    "s = estimate_std(x,y,verbose=True)\n",
    "print (\"Estimate of the std.\", s)"
   ]
  },
  {
   "cell_type": "code",
   "execution_count": 10,
   "metadata": {
    "collapsed": false,
    "jupyter": {
     "outputs_hidden": false
    },
    "pycharm": {
     "is_executing": false,
     "name": "#%%\n"
    }
   },
   "outputs": [],
   "source": [
    "# iterate over large counts and select means and values\n",
    "on_x_axis = []\n",
    "on_x_axis_mean = []\n",
    "means = []\n",
    "vals = []\n",
    "stds = []\n",
    "variants = from_integer_to_variants(out)\n",
    "for i in range(counts.size()[0]):\n",
    "    if counts[i] > 2:\n",
    "        mask = indices == i\n",
    "        for _ in range(counts[i]):\n",
    "            on_x_axis.append(variants[i])\n",
    "        on_x_axis_mean.append(variants[i])\n",
    "        mean = torch.mean(y[mask].view(-1))\n",
    "        means.append(mean)\n",
    "        vals += y[mask].view(-1).tolist()\n",
    "        stds.append(float(torch.std(y[mask].view(-1))))"
   ]
  },
  {
   "cell_type": "code",
   "execution_count": 11,
   "metadata": {
    "collapsed": false,
    "jupyter": {
     "outputs_hidden": false
    },
    "pycharm": {
     "is_executing": false,
     "name": "#%%\n"
    }
   },
   "outputs": [
    {
     "name": "stdout",
     "output_type": "stream",
     "text": [
      "[0.013012086892616459, 0.05012818228366307, 0.0634237953027836, 0.11826835686266388, 0.2449925047867013, 0.05827004759117094, 0.16171270077211855, 0.3163385208318888, 0.20410356313507041, 0.14415538518316834, 0.09793074250362166, 0.3179898709852404, 0.08014072908229641, 0.5418472749815144, 0.1563218718912152, 0.22480020833829573, 0.23857806653604513, 0.26030718555599686, 0.3383014654087382, 0.18212192809447733, 0.33170858154822996, 0.160013130763731, 0.5033306871647378, 0.06705971928634573, 0.38104141239504136, 0.4642286374594999, 0.18312489638761847, 0.25642042734042925, 0.07822049256606334, 0.2194154516123318, 0.07487992490186045, 0.1136046760331993, 0.22707230524272556, 0.13925464766456772]\n"
     ]
    }
   ],
   "source": [
    "print (stds)\n",
    "ordering = np.argsort(np.array(stds))\n",
    "on_x_axis_mean = np.array(on_x_axis_mean)[ordering]\n",
    "means = np.array(means)[ordering]\n"
   ]
  },
  {
   "cell_type": "code",
   "execution_count": 12,
   "metadata": {
    "collapsed": false,
    "jupyter": {
     "outputs_hidden": false
    },
    "pycharm": {
     "is_executing": false,
     "name": "#%%\n"
    }
   },
   "outputs": [
    {
     "name": "stderr",
     "output_type": "stream",
     "text": [
      "/tmp/ipykernel_14665/3134968922.py:6: UserWarning: set_ticklabels() should only be used with a fixed number of ticks, i.e. after set_ticks() or using a FixedLocator.\n",
      "  ax0.set_xticklabels(on_x_axis_mean)\n",
      "/tmp/ipykernel_14665/3134968922.py:7: UserWarning: set_ticklabels() should only be used with a fixed number of ticks, i.e. after set_ticks() or using a FixedLocator.\n",
      "  ax0.set_xticklabels(on_x_axis_mean, rotation = 90)\n",
      "/tmp/ipykernel_14665/3134968922.py:27: UserWarning: This figure was using a layout engine that is incompatible with subplots_adjust and/or tight_layout; not calling subplots_adjust.\n",
      "  plt.subplots_adjust(bottom=0.20, right = 1.05, left = 0.0)\n",
      "/tmp/ipykernel_14665/3134968922.py:28: UserWarning: There are no gridspecs with layoutgrids. Possibly did not call parent GridSpec with the \"figure\" keyword\n",
      "  plt.savefig(\"Noise-analysis.pdf\", dpi = 200,bbox_inches='tight')\n",
      "/tmp/ipykernel_14665/3134968922.py:28: UserWarning: There are no gridspecs with layoutgrids. Possibly did not call parent GridSpec with the \"figure\" keyword\n",
      "  plt.savefig(\"Noise-analysis.pdf\", dpi = 200,bbox_inches='tight')\n",
      "/home/mojko/anaconda3/lib/python3.9/site-packages/IPython/core/pylabtools.py:152: UserWarning: There are no gridspecs with layoutgrids. Possibly did not call parent GridSpec with the \"figure\" keyword\n",
      "  fig.canvas.print_figure(bytes_io, **kw)\n"
     ]
    },
    {
     "data": {
      "image/png": "[encoded data removed]",
      "text/plain": [
       "<Figure size 1000x500 with 2 Axes>"
      ]
     },
     "metadata": {},
     "output_type": "display_data"
    }
   ],
   "source": [
    "fig = plt.figure(figsize=(10, 5),constrained_layout=True)\n",
    "gs = GridSpec(nrows=1, ncols=3, wspace=0.3)\n",
    "\n",
    "ax0 = fig.add_subplot(gs[0, 0:2])\n",
    "ax0.errorbar(on_x_axis_mean,means,yerr =2*s, marker = 'D',color = \"tab:orange\",linestyle = \"\", ms = 5)\n",
    "ax0.set_xticklabels(on_x_axis_mean)\n",
    "ax0.set_xticklabels(on_x_axis_mean, rotation = 90)\n",
    "\n",
    "ax0.plot(on_x_axis,vals,'ko', ms = 5)\n",
    "#ax0.plot(on_x_axis_mean,np.array(stds)[ordering],'bo', ms = 5)\n",
    "\n",
    "\n",
    "\n",
    "ax0.xaxis.grid(True)\n",
    "#plt.grid(\"--\", color = 'gray')\n",
    "ax0.set_xlabel(\"Sav mutants with multiple data points\")\n",
    "ax0.set_ylabel(\"$\\log_{10}$ Relative cell-specific activity\")\n",
    "\n",
    "ax1 = fig.add_subplot(gs[0, 2])\n",
    "ax1.hist(residuals_mean, density = True, bins = 40, color = 'tab:blue')\n",
    "x_axis = np.linspace(-1,1, 1000)\n",
    "ax1.plot(x_axis, norm.pdf(x_axis, 0., s), color = 'tab:orange')\n",
    "ax1.xaxis.grid(True)\n",
    "ax1.yaxis.grid(True)\n",
    "ax1.set_ylabel(\"Normalized occurence\")\n",
    "ax1.set_xlabel(\"$\\log_{10}$ Relative cell-specific activity deviation\")\n",
    "plt.subplots_adjust(bottom=0.20, right = 1.05, left = 0.0)\n",
    "plt.savefig(\"Noise-analysis.pdf\", dpi = 200,bbox_inches='tight')"
   ]
  },
  {
   "cell_type": "code",
   "execution_count": 13,
   "metadata": {
    "collapsed": false,
    "jupyter": {
     "outputs_hidden": false
    },
    "pycharm": {
     "is_executing": false,
     "name": "#%%\n"
    }
   },
   "outputs": [
    {
     "name": "stdout",
     "output_type": "stream",
     "text": [
      "ShapiroResult(statistic=0.7807009220123291, pvalue=0.055888962000608444)\n",
      "ShapiroResult(statistic=0.7591890096664429, pvalue=0.03612465038895607)\n",
      "ShapiroResult(statistic=0.693771481513977, pvalue=0.008233316242694855)\n",
      "ShapiroResult(statistic=0.8771700859069824, pvalue=0.2966834306716919)\n",
      "ShapiroResult(statistic=0.9162543416023254, pvalue=0.5060703754425049)\n",
      "ShapiroResult(statistic=0.7119845151901245, pvalue=0.012727966532111168)\n",
      "ShapiroResult(statistic=0.8109756708145142, pvalue=0.09926817566156387)\n",
      "ShapiroResult(statistic=0.6822947263717651, pvalue=0.006194599438458681)\n",
      "ShapiroResult(statistic=0.6717005968093872, pvalue=0.0030683064833283424)\n",
      "ShapiroResult(statistic=0.924537181854248, pvalue=0.559621274471283)\n"
     ]
    }
   ],
   "source": [
    "for i in range(counts.size()[0]):\n",
    "    if counts[i] > 4:\n",
    "        mask = indices == i\n",
    "        print (shapiro(y[mask].view(-1)))"
   ]
  },
  {
   "cell_type": "code",
   "execution_count": 14,
   "metadata": {
    "collapsed": false,
    "jupyter": {
     "outputs_hidden": false
    },
    "pycharm": {
     "is_executing": false,
     "name": "#%%\n"
    }
   },
   "outputs": [],
   "source": [
    "from mutedpy.experiments.streptavidin.streptavidin_loader import load_second_round\n",
    "from mutedpy.experiments.streptavidin.streptavidin_loader import load_third_round, load_last_round"
   ]
  },
  {
   "cell_type": "code",
   "execution_count": 15,
   "metadata": {},
   "outputs": [],
   "source": [
    "x2,y2,dts2 = load_second_round()\n",
    "x3,y3,dts3 = load_third_round()\n",
    "x4,y4,dts4 = load_last_round()"
   ]
  },
  {
   "cell_type": "code",
   "execution_count": null,
   "metadata": {},
   "outputs": [],
   "source": []
  },
  {
   "cell_type": "code",
   "execution_count": 16,
   "metadata": {},
   "outputs": [
    {
     "name": "stdout",
     "output_type": "stream",
     "text": [
      "Second round variants 514\n",
      "class\n",
      "2nd_chimera               213\n",
      "2nd_informative           202\n",
      "2nd_hypothesis_testing     36\n",
      "2nd_optimistic-diverse     29\n",
      "2nd_safe                   18\n",
      "2nd_balanced               16\n",
      "Name: count, dtype: int64\n"
     ]
    }
   ],
   "source": [
    "print (\"Second round variants\", len(dts2))\n",
    "print (dts2['class'].value_counts())"
   ]
  },
  {
   "cell_type": "code",
   "execution_count": 17,
   "metadata": {},
   "outputs": [
    {
     "name": "stdout",
     "output_type": "stream",
     "text": [
      "Third round variants 868\n",
      "class\n",
      "3rd_NAN_chimera     362\n",
      "3rd_geo_safe         91\n",
      "3rd_ro_safe          89\n",
      "3rd_ro_balanced      87\n",
      "3rd_aa_balanced      87\n",
      "3rd_geo_balanced     86\n",
      "3rd_aa_safe          66\n",
      "Name: count, dtype: int64\n"
     ]
    }
   ],
   "source": [
    "print (\"Third round variants\", len(dts3))\n",
    "print (dts3['class'].value_counts())"
   ]
  },
  {
   "cell_type": "code",
   "execution_count": 18,
   "metadata": {},
   "outputs": [
    {
     "name": "stdout",
     "output_type": "stream",
     "text": [
      "Fourth round variants 552\n",
      "class\n",
      "4th_balanced               71\n",
      "4th_safe                   65\n",
      "4th_5-safe                 11\n",
      "4th_5-balanced             11\n",
      "4th_top10-5-balanced       10\n",
      "4th_aa-5-safe               7\n",
      "4th_aa-5-balanced           5\n",
      "4th_aa-top10-5-balanced     4\n",
      "Name: count, dtype: int64\n"
     ]
    }
   ],
   "source": [
    "print (\"Fourth round variants\", len(dts4))\n",
    "print (dts4['class'].value_counts())"
   ]
  },
  {
   "cell_type": "code",
   "execution_count": 2,
   "metadata": {},
   "outputs": [],
   "source": [
    "# Noise analysis in the subseqeunt rounds"
   ]
  },
  {
   "cell_type": "code",
   "execution_count": 3,
   "metadata": {},
   "outputs": [
    {
     "name": "stdout",
     "output_type": "stream",
     "text": [
      "(CVXPY) Jan 12 09:28:47 AM: Encountered unexpected exception importing solver GLOP:\n",
      "RuntimeError('Version of ortools (9.4.1874) is too old. Expected >= 9.5.0.')\n",
      "(CVXPY) Jan 12 09:28:47 AM: Encountered unexpected exception importing solver PDLP:\n",
      "RuntimeError('Version of ortools (9.4.1874) is too old. Expected >= 9.5.0.')\n"
     ]
    },
    {
     "name": "stderr",
     "output_type": "stream",
     "text": [
      "2024-01-12 09:28:47.527032: I tensorflow/core/platform/cpu_feature_guard.cc:193] This TensorFlow binary is optimized with oneAPI Deep Neural Network Library (oneDNN) to use the following CPU instructions in performance-critical operations:  AVX2 AVX512F AVX512_VNNI FMA\n",
      "To enable them in other operations, rebuild TensorFlow with the appropriate compiler flags.\n",
      "2024-01-12 09:28:47.737132: I tensorflow/core/util/port.cc:104] oneDNN custom operations are on. You may see slightly different numerical results due to floating-point round-off errors from different computation orders. To turn them off, set the environment variable `TF_ENABLE_ONEDNN_OPTS=0`.\n",
      "2024-01-12 09:28:48.869752: W tensorflow/compiler/xla/stream_executor/platform/default/dso_loader.cc:64] Could not load dynamic library 'libnvinfer.so.7'; dlerror: libnvinfer.so.7: cannot open shared object file: No such file or directory\n",
      "2024-01-12 09:28:48.869876: W tensorflow/compiler/xla/stream_executor/platform/default/dso_loader.cc:64] Could not load dynamic library 'libnvinfer_plugin.so.7'; dlerror: libnvinfer_plugin.so.7: cannot open shared object file: No such file or directory\n",
      "2024-01-12 09:28:48.869884: W tensorflow/compiler/tf2tensorrt/utils/py_utils.cc:38] TF-TRT Warning: Cannot dlopen some TensorRT libraries. If you would like to use Nvidia GPU with TensorRT, please make sure the missing libraries mentioned above are installed properly.\n"
     ]
    }
   ],
   "source": [
    "from mutedpy.experiments.streptavidin.active_learning.compare_different_models import load_model_and_mean_std, load_model"
   ]
  },
  {
   "cell_type": "code",
   "execution_count": 4,
   "metadata": {},
   "outputs": [
    {
     "name": "stdout",
     "output_type": "stream",
     "text": [
      "Fitting fit, before update\n",
      "{'kappa': 3.0, 'group': [0, 1, 2, 3, 4, 5, 6, 7, 8, 9, 10, 11, 12, 13, 14, 15, 16, 17, 18, 19], 'ard_gamma': tensor([ 7.8137e+00,  5.4357e+00,  2.8166e+00,  2.8939e+00,  4.1474e+01,\n",
      "         3.6573e+00,  9.8912e+00,  4.7052e+00,  5.3773e+00,  6.5864e+00,\n",
      "         1.4200e+01, -2.0355e+00,  1.0914e+05,  5.0735e+00,  5.8495e-01,\n",
      "         7.0306e+00,  1.2471e+01,  2.6259e+00,  4.2813e+00,  5.3976e+00],\n",
      "       dtype=torch.float64), 'nu': 2.5}\n"
     ]
    }
   ],
   "source": [
    "\n",
    "GP, embed, model_dict = load_model(\"/home/mojko/Documents/PhD_Projects/protein-design-pet/mutedpy/experiments/streptavidin/active_learning_3/AA_model/params/final_model_params_Jan_05.p\",\"fit, before update\",model_params_return=True)\n"
   ]
  },
  {
   "cell_type": "code",
   "execution_count": 10,
   "metadata": {},
   "outputs": [
    {
     "data": {
      "text/plain": [
       "tensor([0.1150, 0.1457, 0.2031], dtype=torch.float64)"
      ]
     },
     "execution_count": 10,
     "metadata": {},
     "output_type": "execute_result"
    }
   ],
   "source": [
    "import torch\n",
    "torch.unique(torch.diag(GP.Sigma))"
   ]
  },
  {
   "cell_type": "code",
   "execution_count": null,
   "metadata": {},
   "outputs": [],
   "source": []
  }
 ],
 "metadata": {
  "kernelspec": {
   "display_name": "PyCharm (protein-design-pet)",
   "language": "python",
   "name": "pycharm-10639641"
  },
  "language_info": {
   "codemirror_mode": {
    "name": "ipython",
    "version": 3
   },
   "file_extension": ".py",
   "mimetype": "text/x-python",
   "name": "python",
   "nbconvert_exporter": "python",
   "pygments_lexer": "ipython3",
   "version": "3.9.18"
  },
  "pycharm": {
   "stem_cell": {
    "cell_type": "raw",
    "metadata": {
     "collapsed": false
    },
    "source": []
   }
  }
 },
 "nbformat": 4,
 "nbformat_minor": 4
}
