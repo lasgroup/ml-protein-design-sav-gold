import torch 
import numpy as np 
import matplotlib.pyplot as plt 
from mutedpy.utils.sequences.sequence_utils import add_variant_column
from mutedpy.experiments.streptavidin.streptavidin_loader import *


x3, y3, d3 = load_third_round()
x4, y4, d4 = load_last_round()


selection = d4[d4['round'] == "4th"]
selection = pd.concat([d3, selection])


selection = selection[['variant','LogFitness','class']]


selection = selection.groupby('variant').agg({'LogFitness': 'mean', 'class': 'first'}).reset_index()


global_set = selection.copy()


collumns_to_take_into_account = ['3rd_aa_safe', '3rd_ro_safe','3rd_ro_balanced', '3rd_aa_balanced', '4th_balanced', '4th_safe']
selection = selection[selection['class'].isin(collumns_to_take_into_account)]


# load predictions in the first round by the models
selection = global_set[global_set['class'].isin(['3rd_aa_safe','3rd_aa_balanced'])]
# amino-acid
round_1_predictions_aa = pd.read_csv("../../../mutedpy/experiments/streptavidin/active_learning/AA_model/lists/predictions.csv")
intersection_df = pd.merge(round_1_predictions_aa, selection, on='variant', how='inner')
intersection_df
print (np.mean((intersection_df['LogFitness'].values - intersection_df['mean'].values)**2))


# load predictions in the second round by the models
round_2_predictions_aa = pd.read_csv("../../../mutedpy/experiments/streptavidin/active_learning_2/AA_model/lists/predictions-aa.csv")
intersection_df = pd.merge(round_2_predictions_aa, selection, on='variant', how='inner')
print (np.mean((intersection_df['LogFitness'].values - intersection_df['mean'].values)**2))

# how many of the ones selected were predicted to be high? 


print ("Amino-acid model:")
mask = intersection_df['mean'] > np.log10(8.625)
print ("Number predicted high:", np.sum(mask))
predicted_high = np.sum(mask)
mask2 = intersection_df[mask]['LogFitness'] > np.log10(8.625)
print ("Number of the predicted high, actually high:", np.sum(mask2))
actually_high_from = np.sum(mask2)
print ("true-positivity-rate",actually_high_from/predicted_high)
tp_aa = np.round(actually_high_from/predicted_high,2)
aa_high_actual = intersection_df.loc[mask].loc[mask2]


selection = global_set[global_set['class'].isin(['4th_balanced', '4th_safe'])]

round_2_predictions_geo = pd.read_csv("../../../mutedpy/experiments/streptavidin/active_learning_2/Geometric/lists/predictions-geo_Jan_05.csv")
round_2_predictions_geo = add_variant_column(round_2_predictions_geo) 
intersection_df = pd.merge(round_2_predictions_geo, selection, on='variant', how='inner')
print (np.mean((intersection_df['LogFitness'].values - intersection_df['mean'].values)**2))


print ("Geometric model:")
mask = intersection_df['mean'] > np.log10(8.625)
print ("Number predicted high:", np.sum(mask))
predicted_high = np.sum(mask)
mask2 = intersection_df[mask]['LogFitness'] > np.log10(8.625)
print ("Number of the predicted high, actually high:", np.sum(mask2))
actually_high_from = np.sum(mask2)
print ("true-positivity-rate",actually_high_from/predicted_high)
tp_geo = np.round(actually_high_from/predicted_high,2)
geo_high_actual = intersection_df.loc[mask].loc[mask2]




selection = global_set[global_set['class'].isin(['3rd_ro_safe','3rd_ro_balanced'])]
round_2_predictions_ros = pd.read_csv("../../../mutedpy/experiments/streptavidin/active_learning_2/Rosetta_init/lists/predictions-ro.csv")
round_2_predictions_ros = add_variant_column(round_2_predictions_ros) 
intersection_df = pd.merge(round_2_predictions_ros, selection, on='variant', how='inner')
print (np.mean((intersection_df['LogFitness'].values - intersection_df['mean'].values)**2))


print ("Rosetta model:")
mask = intersection_df['mean'] > np.log10(8.625)
print ("Number predicted high:", np.sum(mask))
predicted_high = np.sum(mask)
mask2 = intersection_df[mask]['LogFitness'] > np.log10(8.625)
print ("Number of the predicted high, actually high:", np.sum(mask2))
actually_high_from = np.sum(mask2)
print ("true-positivity-rate",actually_high_from/predicted_high)
ro_high_actual = intersection_df.loc[mask].loc[mask2]
tp_r = np.round(actually_high_from/predicted_high,2)



ro_high_actual ['Model - hit success'] = 'Rosetta \n' + str(tp_r*100)+ "%"
geo_high_actual['Model - hit success'] = "Geometric \n" + str(tp_geo*100)+ "%"
aa_high_actual ['Model - hit success'] = 'Amino-Acid \n' + str(tp_aa*100) + "%"

actual_high_dts = pd.concat([ro_high_actual[['Model - hit success','LogFitness','variant','class']],
                             aa_high_actual[['Model - hit success','LogFitness','variant','class']],
                             geo_high_actual[['Model - hit success','LogFitness','variant','class']]])




actual_high_dts





import seaborn as sns
import matplotlib.pyplot as plt
bottom = 0.2
plt.subplots_adjust(bottom=bottom)
palette = {'Rosetta \n' + str(tp_r*100)+ "%":"tab:gray" ,"Geometric \n" + str(tp_geo*100)+ "%":"tab:orange",'Amino-Acid \n' + str(tp_aa*100) + "%":'tab:blue'}
sns.violinplot(data=actual_high_dts,x = 'Model - hit success',y = 'LogFitness',  bw=.2, cut=1, linewidth=1,  palette=palette, inner="points")
plt.ylabel("$\log_{10}$ Relative Cell-specific Activity")
plt.xlabel("Hit Rate % [Models]")
plt.savefig("hit-sucess-comparison-no-chimera.pdf", dpi = 200,bbox_inches='tight')


# plots points for three different models 


actual_high_dts = actual_high_dts.sort_values(by = 'LogFitness', ascending = False)
selected_for_plot = actual_high_dts.head(10)


selected_for_plot


dic = {'Geometric \n31.0%':2,'Rosetta \n44.0%':1,'Amino-Acid \n48.0%':0}



#plt.figure(figsize=(20,10))
sns.violinplot(data=actual_high_dts,x = 'Model - hit success',y = 'LogFitness',  bw=.2, cut=1, linewidth=1,  palette=palette)
cmap = plt.get_cmap('tab20')
offsets = [0.1,0.1,-0.4,0.1,-0.4,-0.4,0.1]
for index, obj in enumerate(selected_for_plot['variant'].unique()):
    mask = selected_for_plot['variant']==obj
    y = selected_for_plot[mask][['LogFitness']].values
    x = [i[0] for i in selected_for_plot[mask][['Model - hit success']].values]
    print (x)
    integers = sorted([dic[i] for i in x])
    print (integers)
    plt.text(integers[0]+offsets[index],y[0]-0.005,s = obj)
    plt.errorbar(x,y.reshape(-1),marker = 'o', linestyle = '-', label = obj, markersize = 10, color='black',yerr = 0.15, capsize=10, linewidth = 1)
    #plt.plot(x,y.reshape(-1),marker = 'o', label = obj, markersize = 10, color='black', zorder = 10)
    #lt.legend(ncol = 4, fontsize = 20)
    plt.xlim([-0.5,2.5])
    plt.ylim([1.15,1.55])
plt.ylabel("$\log_{10}$ Relative Cell-specific Activity")
plt.xlabel("Hit Rate % [Models]")
plt.savefig("zoomed-hit-scuess-comparison-no-chimera.pdf",dpi = 200,bbox_inches='tight')



















