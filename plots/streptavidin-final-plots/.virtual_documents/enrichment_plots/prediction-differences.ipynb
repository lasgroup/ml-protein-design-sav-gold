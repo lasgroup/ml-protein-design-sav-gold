import torch 
import numpy as np 
import matplotlib.pyplot as plt 
from mutedpy.utils.sequences.sequence_utils import add_variant_column
from mutedpy.experiments.streptavidin.streptavidin_loader import *


x3, y3, d3 = load_third_round()
x4, y4, d4 = load_last_round()


selection = d4[d4['round'] == "4th"]
selection = pd.concat([d3, selection])


selection = selection[['variant','LogFitness','class']]
selection = selection.groupby('variant').agg({'LogFitness': 'mean', 'class': 'first'}).reset_index()


selection


# load predictions in the second round by the models
round_2_predictions_aa = pd.read_csv("../../../mutedpy/experiments/streptavidin/active_learning_2/AA_model/lists/predictions-aa.csv")
intersection_df_aa = pd.merge(round_2_predictions_aa, selection, on='variant', how='inner')
print (np.mean((intersection_df_aa['LogFitness'].values - intersection_df_aa['mean'].values)**2))

# how many of the ones selected were predicted to be high? 


round_2_predictions_geo = pd.read_csv("../../../mutedpy/experiments/streptavidin/active_learning_2/Geometric/lists/predictions-geo_Jan_05.csv")
round_2_predictions_geo = add_variant_column(round_2_predictions_geo) 
intersection_df_geo = pd.merge(round_2_predictions_geo, selection, on='variant', how='inner')
print (np.mean((intersection_df_geo['LogFitness'].values - intersection_df_geo['mean'].values)**2))


round_2_predictions_ros = pd.read_csv("../../../mutedpy/experiments/streptavidin/active_learning_2/Rosetta_init/lists/predictions-ro.csv")
round_2_predictions_ros = add_variant_column(round_2_predictions_ros) 
intersection_df_ros = pd.merge(round_2_predictions_ros, selection, on='variant', how='inner')
print (np.mean((intersection_df_ros['LogFitness'].values - intersection_df_ros['mean'].values)**2))


intersection_df_ros['mean']


merged_df = intersection_df_aa.merge(intersection_df_ros, on='variant', how='inner')
merged_df = merged_df[['variant','mean_x','std_x','mean_y','std_y']]
merged_df


merged_df = merged_df.merge(intersection_df_geo, on='variant', how='inner')


merged_df = merged_df[['variant','mean_x','std_x','mean_y','std_y','mean','std','LogFitness']]
merged_df.columns = ['variant','mean_aa','std_aa','mean_ro','std_ro','mean_geo','std_geo','LogFitness']


merged_df


merged_df = merged_df.sort_values("LogFitness", ascending=False)


import seaborn as sns


# import seaborn as sns
# sns.set_theme(style="whitegrid")


# # Make the PairGrid
# g = sns.PairGrid(merged_df.sort_values("LogFitness", ascending=False),
#                  x_vars=['mean_aa','mean_ro','mean_geo'], y_vars=["variant"],
#                  height=10, aspect=.25)

# # Draw a dot plot using the stripplot function
# g.map(sns.stripplot, size=10, orient="h", jitter=False,
#       palette="flare_r", linewidth=1, edgecolor="w")

# # Use the same x axis limits on all columns and add better labels
# g.set(xlim=(0, 25), xlabel="Models", ylabel="")

# # Use semantically meaningful titles for the columns
# titles = ["AA","RO","GEO","S","S"]

# for ax, title in zip(g.axes.flat, titles):

#     # Set a different title for each axes
#  #   ax.set(title=title)

#     # Make the grid horizontal instead of vertical
#     ax.xaxis.grid(False)
#     ax.yaxis.grid(True)

# sns.despine(left=True, bottom=True)





N = 30
small_df = merged_df.head(N)


validation = {'CTNLV':18, 'TALYQ':13,'AAAMM':10, 'CLPPG':10, 'QPFRV':6}
for key in validation.keys():
    small_df.loc[small_df['variant'] == key,'ValLogFitness'] = np.log10(validation[key])


plt.figure(figsize = (20,10))
sns.stripplot(data=small_df, x="mean_aa", y = 'variant', linewidth =1 ,edgecolor="w",color="tab:blue",size=10, label = 'amino-acid')
sns.stripplot(data=small_df, x="mean_geo", y = 'variant', linewidth =1 ,edgecolor="w",color="tab:orange",size=10, label = 'geometric')
sns.stripplot(data=small_df, x="mean_ro", y = 'variant', linewidth =1 ,edgecolor="w",color="gray",size=10, label = 'rosetta')
sns.stripplot(data=small_df, x="LogFitness", y = 'variant', linewidth =1 ,edgecolor="w",color="tab:green",size=10, label = 'truth')
sns.stripplot(data=small_df, x="ValLogFitness", y = 'variant', linewidth =1 ,edgecolor="w",color="tab:red",size=12, label = 'validation')

plt.errorbar(small_df['mean_aa'], np.arange(N), xerr=2*small_df['std_aa'], fmt='', color = 'tab:blue', linestyle = '',alpha = 0.5)
plt.errorbar(small_df['mean_geo'], np.arange(N), xerr=2*small_df['std_geo'], fmt='', color = 'tab:orange', linestyle = '',alpha = 0.5)
plt.errorbar(small_df['mean_ro'],np.arange(N), xerr=2*small_df['std_ro'], fmt='', color = 'gray', linestyle = '',alpha = 0.5)

plt.grid(axis='y')  # add horizontal grid
handles, labels = plt.gca().get_legend_handles_labels()

# Use dict to remove duplicates
by_label = dict(zip(labels, handles))
plt.legend(by_label.values(), by_label.keys())

plt.savefig("comparison_of_predictions.png")
plt.show()









