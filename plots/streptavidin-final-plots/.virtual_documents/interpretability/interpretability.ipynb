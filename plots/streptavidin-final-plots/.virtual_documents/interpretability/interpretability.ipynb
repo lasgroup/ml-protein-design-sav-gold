import numpy as np 
import scipy
import matplotlib.pyplot as plt

import torch 
import matplotlib.pyplot as plt 
import numpy as np
import seaborn as sns 
import pandas as pd 
from mutedpy.experiments.streptavidin.streptavidin_loader import *
from sklearn.metrics import r2_score
from mutedpy.experiments.streptavidin.streptavidin_loader import tobias_colors
from mutedpy.utils.sequences.sequence_utils import ProteinOperator


# load model 
from mutedpy.experiments.streptavidin.active_learning.compare_different_models import load_model
from mutedpy.utils.protein_operator import ProteinOperator
Op = ProteinOperator()
model_params = "../../../mutedpy/experiments/streptavidin/active_learning/AA_model/params/final_model_params.p"
GP, embed, paramns = load_model(model_params, "second round fit", vintage = True, model_params_return = True)
#GP.feature_loader.feature_loaders[0].stacking = False



paramns


sorted, importance = torch.sort(GP.kernel_object.params['ard_gamma']**2)


site_nums = ['111','112','118','119','121']
for i,index in enumerate(importance):
    c,type,_,loc = paramns['feature_names'][index].split("_")
    print (sorted[i],c, type[-1],site_nums[int(loc)] )


# Let us plot these features w.r.t. fitness on the dataset


x_all,y_all,dts = load_everything_we_have()


topk = 5


selected_features = embed(x_all)[:,importance[0:topk]]
selected_features = torch.hstack((selected_features, y_all,(y_all > 1.).double()))
#selected_features = torch.hstack((selected_features, torch.from_numpy(dts['site0T'].values).view(-1,1) ))


selected_features.size()


P = ProteinOperator()



#plt.savefig('pair_plot.pdf',dpi = 300)





x_n,y_n,dts = load_first_round()





dictionary = {}
plt.figure()
j = 0
#print ("site:",j)
def shift(lst, shift_amount):
    return lst[-shift_amount % len(lst):] + lst[:-shift_amount % len(lst)]
dictionary[str(j)] = {}
vals1 = []
vals2 = []
for i in range(20):
    x_point = shift([i,0,0,0,0],j)
    phi = embed(torch.Tensor([x_point]))
    dictionary[str(j)][str(i)] = phi
    vals1.append(float(phi.view(-1)[importance[0]]))
    vals2.append(float(phi.view(-1)[importance[1]]))


dictionary = {}
plt.figure()
j = 3
dictionary[str(j)] = {}
vals3 = []
for i in range(20):
    x_point = shift([i,0,0,0,0],j)
    phi = embed(torch.Tensor([x_point]))
    dictionary[str(j)][str(i)] = phi
    vals3.append(float(phi.view(-1)[importance[2]]))



dictionary = {}
plt.figure()
j = 4
dictionary[str(j)] = {}
vals4 = []
for i in range(20):
    x_point = shift([i,0,0,0,0],j)
    phi = embed(torch.Tensor([x_point]))
    dictionary[str(j)][str(i)] = phi
    vals4.append(float(phi.view(-1)[importance[3]]))



dictionary = {}
plt.figure()
j = 1
dictionary[str(j)] = {}
vals5 = []
for i in range(20):
    x_point = shift([i,0,0,0,0],j)
    phi = embed(torch.Tensor([x_point]))
    dictionary[str(j)][str(i)] = phi
    vals5.append(float(phi.view(-1)[importance[4]]))






import seaborn as sns
df = pd.DataFrame(data=selected_features, columns = list(paramns['feature_names'][importance[0:topk]])+['y','hit'])
pair_plot = sns.pairplot(df, hue = 'hit')

ax = pair_plot.axes[0, 0]
#ax.scatter(np.array(vals1), np.array(vals1)*0+0.)
for i, v in enumerate(vals1):
    ax.annotate(P.inv_dictionary[i], (v,v*0+v),xytext=(v, v*0+v), fontsize = 8)

ax = pair_plot.axes[1, 1]
#ax.scatter(np.array(vals2), np.array(vals2)*0+0.)
for i, v in enumerate(vals2):
    ax.annotate(P.inv_dictionary[i], (v,v*0+v),xytext=(v, v*0+v), fontsize = 8)

ax = pair_plot.axes[2, 2]
#ax.scatter(np.array(vals2), np.array(vals2)*0+0.)
for i, v in enumerate(vals3):
    ax.annotate(P.inv_dictionary[i], (v,v*0+v),xytext=(v, v*0+v), fontsize = 8)
    
ax = pair_plot.axes[3, 3]
#ax.scatter(np.array(vals2), np.array(vals2)*0+0.)
for i, v in enumerate(vals4):
    ax.annotate(P.inv_dictionary[i], (v,v*0+v),xytext=(v, v*0+v), fontsize = 8)
    
ax = pair_plot.axes[4, 4]
#ax.scatter(np.array(vals2), np.array(vals2)*0+0.)
for i, v in enumerate(vals5):
    ax.annotate(P.inv_dictionary[i], (v,v*0+v),xytext=(v, v*0+v), fontsize = 8)
    
    
    
plt.savefig('pair_plot.pdf',dpi = 300)
plt.show()


plt.show()


iris = sns.load_dataset("iris")
iris


df = pd.melt(iris, iris.columns[-1], iris.columns[:-1])
df


import pandas as pd
import seaborn as sns
import matplotlib.pyplot as plt

#iris = sns.load_dataset("iris")
df = pd.DataFrame(data=selected_features, columns = list(paramns['feature_names'][importance[0:topk]])+['y','hit'])
d = pd.melt(df,  list(paramns['feature_names'][importance[0:topk]]),'f')
df.head(2)


#g = sns.FacetGrid(d, col = "PC_scores9_site_0",hue="variable", col_wrap=3)
# g.map(sns.kdeplot, "PC_scores9_site_0")
#g = sns.FacetGrid(col_wrap = 3)
#g = sns.FacetGrid(data=df,col_wrap=3)
ax = sns.kdeplot(data=df, x="PC_scores9_site_0", hue="hit", multiple="stack", legend = False,alpha=.8,common_norm=False)
plt.xlabel("SITE 111 - PC score 9")

args_sort = np.argsort(vals1)
for i, v in enumerate(np.array(vals1)[args_sort]):
    ax.annotate(P.inv_dictionary[args_sort[i]], (v,1.+0.15*(i%4)),xytext=(v, 1.+0.15*(i%4)), fontsize = 15)

plt.figure()
ax = sns.kdeplot(data=df, x="Z_scales4_site_0", hue="hit", multiple="stack", legend = False,alpha=.8,common_norm=False)
plt.xlabel("SITE 111 - Z scales 4")

args_sort = np.argsort(vals2)
for i, v in enumerate(np.array(vals2)[args_sort]):
    ax.annotate(P.inv_dictionary[args_sort[i]], (v,1.+0.15*(i%4)),xytext=(v, 1.+0.15*(i%4)), fontsize = 15)


plt.figure()
ax = sns.kdeplot(data=df, x="Barley_0_site_3", hue="hit", multiple="stack", legend = False,alpha=.8,common_norm=False)
plt.xlabel("SITE 119 - Barley 0")

args_sort = np.argsort(vals3)
for i, v in enumerate(np.array(vals3)[args_sort]):
    ax.annotate(P.inv_dictionary[args_sort[i]], (v,1.+0.1*(i%4)),xytext=(v, 1.+0.1*(i%4)), fontsize = 15)


plt.figure()
ax = sns.kdeplot(data=df, x="PC_scores0_site_4", hue="hit", multiple="stack", legend = False,alpha=.8,common_norm=False)
plt.xlabel("SITE 121 - PC scores 0 4")

args_sort = np.argsort(vals4)
for i, v in enumerate(np.array(vals4)[args_sort]):
    ax.annotate(P.inv_dictionary[args_sort[i]], (v,1.+0.1*(i%4)),xytext=(v, 1.+0.1*(i%4)), fontsize = 15)


plt.figure()
ax = sns.kdeplot(data=df, x="Z_scales3_site_1", hue="hit", multiple="stack", legend = False,alpha=.8,common_norm=False)
plt.xlabel("SITE 112 - Z scales 3")

args_sort = np.argsort(vals5)
for i, v in enumerate(np.array(vals5)[args_sort]):
    ax.annotate(P.inv_dictionary[args_sort[i]], (v,1.+0.15*(i%4)),xytext=(v, 1.+0.15*(i%4)), fontsize = 15)

plt.figure()
ax = sns.kdeplot(data=df, x="y", hue="hit", multiple="stack", legend = False,alpha=.8,common_norm=False)
plt.xlabel("Fitness")

#sns.kdeplot(data=df, x="Z_scales3_site_1", hue="hit", multiple="value", legend = False)
#plt.xlabel("SITE 112 - Z scales 3")
# plt.show()


import matplotlib.pyplot as plt
import seaborn as sns
import numpy as np

# Assuming df, vals1, vals2, vals3, vals4, vals5, and P are already defined

fig, axes = plt.subplots(2, 3, figsize=(15, 10))  # Adjust the figure size as needed

# Plot 1
sns.kdeplot(data=df, x="PC_scores9_site_0", hue="hit", multiple="stack", legend=False, alpha=.8, common_norm=True, ax=axes[0, 0])
axes[0, 0].set_xlabel("SITE 111 - PC score 9")
# Annotations for Plot 1
args_sort = np.argsort(vals1)
for i, v in enumerate(np.array(vals1)[args_sort]):
    axes[0, 0].annotate(P.inv_dictionary[args_sort[i]], (v, 1. + 0.15 * (i % 4)), xytext=(v, 1. + 0.15 * (i % 4)), fontsize=15)

# Plot 2
sns.kdeplot(data=df, x="Z_scales4_site_0", hue="hit", multiple="stack", legend=False, alpha=.8, common_norm=True, ax=axes[0, 1])
axes[0, 1].set_xlabel("SITE 111 - Z scales 4")
# Annotations for Plot 2
args_sort = np.argsort(vals2)
for i, v in enumerate(np.array(vals2)[args_sort]):
    axes[0, 1].annotate(P.inv_dictionary[args_sort[i]], (v, 1. + 0.15 * (i % 4)), xytext=(v, 1. + 0.15 * (i % 4)), fontsize=15)

# Plot 3
sns.kdeplot(data=df, x="Barley_0_site_3", hue="hit", multiple="stack", legend=False, alpha=.8, common_norm=True, ax=axes[0, 2])
axes[0, 2].set_xlabel("SITE 119 - Barley 0")
# Annotations for Plot 3
args_sort = np.argsort(vals3)
for i, v in enumerate(np.array(vals3)[args_sort]):
    axes[0, 2].annotate(P.inv_dictionary[args_sort[i]], (v, 0.8 + 0.1 * (i % 4)), xytext=(v, 0.8 + 0.1 * (i % 4)), fontsize=15)

# Plot 4
sns.kdeplot(data=df, x="PC_scores0_site_4", hue="hit", multiple="stack", legend=False, alpha=.8, common_norm=True, ax=axes[1, 0])
axes[1, 0].set_xlabel("SITE 121 - PC scores 0 4")
# Annotations for Plot 4
args_sort = np.argsort(vals4)
for i, v in enumerate(np.array(vals4)[args_sort]):
    axes[1, 0].annotate(P.inv_dictionary[args_sort[i]], (v, 0.5 + 0.1 * (i % 4)), xytext=(v, 0.5 + 0.1 * (i % 4)), fontsize=15)

# Plot 5
sns.kdeplot(data=df, x="Z_scales3_site_1", hue="hit", multiple="stack", legend=False, alpha=.8, common_norm=True, ax=axes[1, 1])
axes[1, 1].set_xlabel("SITE 112 - Z scales 3")
# Annotations for Plot 5
args_sort = np.argsort(vals5)
for i, v in enumerate(np.array(vals5)[args_sort]):
    axes[1, 1].annotate(P.inv_dictionary[args_sort[i]], (v, 1. + 0.15 * (i % 4)), xytext=(v, 1. + 0.15 * (i % 4)), fontsize=15)

# Plot 6
sns.kdeplot(data=df, x="y", hue="hit", multiple="stack", legend=False, alpha=.8, common_norm=True, ax=axes[1, 2])
axes[1, 2].set_xlabel("Fitness")

plt.tight_layout()  # Adjust the layout
#plt.show()
plt.savefig("pair_plot2.pdf")



