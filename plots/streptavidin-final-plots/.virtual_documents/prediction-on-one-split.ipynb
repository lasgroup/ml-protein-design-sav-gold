import pandas as pd
import matplotlib.pyplot as plt
import numpy as np 
from sklearn.metrics import r2_score


folder = "/home/mojko/Documents/PhD_Projects/protein-design-pet/mutedpy/experiments/streptavidin/results_strep/struct_test_DEC2022_elastic_0_0_1_20_streptavidin-gold-def_ard_matern_ARD_all/"


predictions = pd.read_csv(folder + "predictions_test_split_0.csv")
predictions


for i in range(15): 
    r2_val = r2_score(predictions['truth'].values.reshape(-1),predictions['pred'].values.reshape(-1))


index = np.argmax(np.median(r2_val) == r2_val)



fontsize = 12
i = index
plt.clf()
predictions = pd.read_csv(folder + "predictions_test_split_"+str(i)+".csv")
plt.errorbar(predictions['truth'].values.reshape(-1),predictions['pred'].values.reshape(-1),color='tab:red', marker = 'o', markersize = 3,  linestyle = '', xerr=0.1457, capsize=5)
plt.errorbar(predictions['truth'].values.reshape(-1),predictions['pred'].values.reshape(-1),color='black', marker = 'o', markersize = 3,  linestyle = '', xerr=0, yerr=predictions['std'].values.reshape(-1), capsize=5)

# R^2 line with R^2 number
r2_val = r2_score(predictions['truth'].values.reshape(-1),predictions['pred'].values.reshape(-1))
print (r2_val)
plt.plot(np.linspace(-0.75,1,10), np.linspace(-0.75,1,10), 'k--')
plt.text(-0.75, 0.75, "$R^2 = $" + str(np.round(r2_val,3)), fontsize = fontsize*1.5)

plt.xlabel("Measured $\log_{10}$ Relative Cell-specific Activity", fontsize = fontsize)
plt.ylabel("Predicted $\log_{10}$ Relative Cell-specific Activity", fontsize = fontsize)
plt.savefig("CV-split-perf.pdf",bbox_inches='tight', dpi = 200)






