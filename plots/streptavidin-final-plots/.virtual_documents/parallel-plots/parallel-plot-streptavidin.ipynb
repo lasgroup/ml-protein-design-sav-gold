from mutedpy.experiments.streptavidin.streptavidin_loader import * 
from mutedpy.utils.protein_operator import ProteinOperator
import matplotlib.pyplot as plt


from parallel_coordinates import parallel_coordinates_bo


x,y,dts = load_full()


x2,y2,dts2 =load_last_round()


Operator = ProteinOperator()
xtest = torch.vstack((x,x2))
ytest = torch.vstack((y,y2))


mask1 = ytest > np.log10(8.)
ytest = ytest*0. 
ytest[mask1] = 1. 



names = [Operator.inv_dictionary[a] for a in np.arange(0,20,1)]





real_names = [Operator.real_names[Operator.inv_dictionary[a]] for a in np.arange(0,20,1)]
new_names = [a+" ("+b+")" for a,b in zip(real_names,names)]
print (new_names)
parallel_coordinates_bo(xtest,ytest, names_x = (np.arange(0,20,1),new_names), names_bottom=[111,112,118,119,121])
plt.savefig("streptavidin_coordinate_plot.png", dpi = 200, bbox_inches='tight')






