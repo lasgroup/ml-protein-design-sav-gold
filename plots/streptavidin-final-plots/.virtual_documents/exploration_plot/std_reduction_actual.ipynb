import torch 
import matplotlib.pyplot as plt 
import numpy as np
import seaborn as sns 
import pandas as pd 
from mutedpy.experiments.streptavidin.streptavidin_loader import *
from sklearn.metrics import r2_score
from mutedpy.experiments.streptavidin.streptavidin_loader import tobias_colors


load_second_round()[0].size()[0]


y_first_round = load_first_round()[1]


aa_predictions_round_1 = pd.read_csv("../../../mutedpy/experiments/streptavidin/active_learning/AA_model/lists/predictions.csv") 
aa_predictions_round_2 = pd.read_csv("../../../mutedpy/experiments/streptavidin/active_learning_2/AA_model/lists/predictions-aa.csv")


tobias_colors


full_std = pd.read_csv("../../../mutedpy/experiments/streptavidin/post-first-round-simulate/full_std1.csv") 


dtss = []
for r in range(20): 
    s = pd.read_csv("../../../mutedpy/experiments/streptavidin/post-first-round-simulate/data/stds"+str(r)+"_model1.csv")
    s.set_index('variant', inplace=True)
    dtss.append(s)


df = pd.concat(dtss)
df



# Group by index and calculate the mean
df_mean = df.groupby(df.index).mean()


df_std = df.groupby(df.index).std()





df_mean


df_std


print (len(aa_predictions_round_1), len(aa_predictions_round_2))


# create a hypothetical case where these are evaluated what happens with the confidence sets
#plt.hist(aa_predictions_round_1['std'], label = 'after 1st round')
#plt.hist(aa_predictions_round_2['std'], label = 'after 2nd round')

sns.histplot(data=aa_predictions_round_1, x="std", bins=30, label = 'after 1st round',stat = 'frequency', color = tobias_colors['RED'], alpha = 0.3)
sns.histplot(data=aa_predictions_round_2, x="std", bins=30, color = tobias_colors['GREEN'], label = 'after 2nd round',stat = 'frequency', alpha = 0.3)

#sns.histplot(data=df_mean, x="std", bins=30, color = "tab:purple", label = 'random sampling simulation',stat = 'frequency', alpha = 0.3)

#plt.plot([np.max(aa_predictions_round_1['std']),np.max(aa_predictions_round_1['std'])],[0,2e7], linewidth = 3, color = 'tab:blue', linestyle = '--')
#plt.plot([np.max(aa_predictions_round_2['std']),np.max(aa_predictions_round_2['std'])],[0,2e7], linewidth = 3, color = 'tab:orange', linestyle = "--", label = 'max std.')

#plt.plot([np.mean(aa_predictions_round_1['std']),np.mean(aa_predictions_round_1['std'])],[0,2e7], linewidth = 3, color = 'tab:blue', linestyle = '-', label = 'mean std.')
#plt.plot([np.mean(aa_predictions_round_2['std']),np.mean(aa_predictions_round_2['std'])],[0,2e7], linewidth = 3, color = 'tab:orange', linestyle = "-")


plt.xlabel("confidence width")
plt.ylabel("frequency")
plt.legend()
plt.savefig("std_distribution.pdf",dpi = 200)


#N = 25
x3, y3, d3 = load_third_round()
x4, y4, d4 = load_last_round()
selection = d4[d4['round'] == "4th"]
selection = pd.concat([d3, selection])
selection = selection[['variant','LogFitness','class']]
selection = selection.groupby('variant').agg({'LogFitness': 'mean', 'class': 'first'}).reset_index()
selection = selection.sort_values("LogFitness", ascending=False)
#variants = selection.head(N)['variant'].values.tolist()
#dts_to_vars = pd.DataFrame(data = variants, columns = ['variant'])
dts_to_vars = selection


plt.hist(y_first_round.T, bins = 30, alpha = 0.4, density = True)
plt.hist(selection['LogFitness'].values, bins = 30, alpha = 0.4, density = True)


# top variants 
top_1 = dts_to_vars.merge(aa_predictions_round_1,on=["variant"])
top_2 = dts_to_vars.merge(aa_predictions_round_2,on=['variant'])
top_3 = dts_to_vars.merge(df_mean,on=['variant'])
top_full = dts_to_vars.merge(full_std,on=['variant'])


print ('prior',np.mean((top_1['LogFitness']-top_1['mean'])**2))
print ("R2", r2_score(top_1['LogFitness'], top_1['mean']))

print ('after',np.mean((top_2['LogFitness']-top_2['mean'])**2))
print ("R2", r2_score(top_2['LogFitness'], top_2['mean']))



plt.plot(top_1['LogFitness'], top_1['mean'],'ko')
plt.plot(top_2['LogFitness'], top_2['mean'],'ro')


safe_balanced_round_2 = pd.read_csv("../../../mutedpy/experiments/streptavidin/active_learning_2/AA_model/lists/safe+balanced-aa.csv")
max_std = np.max(safe_balanced_round_2['std'])


max_std


N = 25
f = lambda x: print(x)
sns.barplot(x="std", y="variant", data=top_1.head(N), label = 'After Initial round', color = tobias_colors['RED'],alpha = 0.8)
sns.barplot(x="std", y="variant", data=top_3.head(N), label = 'Random sampling [simulation]', color = 'tab:purple', alpha = 0.8)
sns.barplot(x="std", y="variant", data=top_2.head(N), label = 'After Exploration round', color = tobias_colors['GREEN'], alpha = 0.8)
plt.xlabel("Gaussian process standard deviation ($\log_{10}$ Activity)")
plt.plot([max_std,max_std],[-3.5,N-0.5],'w--')
plt.plot([max_std,max_std],[0,N-0.5],'k--', label = 'Maximum st. deviation')
plt.legend(ncol = 2, loc = 'upper right')
plt.ylabel("SAV mutant")
plt.savefig("std_reduction_2.pdf", dpi = 200,bbox_inches='tight')


top_1.head(N).to_csv("initial.csv")
top_2.head(N).to_csv("random.csv")
top_3.head(N).to_csv("after.csv")



plt.figure(figsize=(20,10))
plt.subplot(1,2,1)
sns.histplot(data=aa_predictions_round_1, x="std", bins=30, label = 'after 1st round',stat = 'frequency')
sns.histplot(data=aa_predictions_round_2, x="std", bins=30, color = 'tab:orange', label = 'after 2nd round',stat = 'frequency', alpha = 0.6)
plt.plot([np.max(aa_predictions_round_1['std']),np.max(aa_predictions_round_1['std'])],[0,2e7], linewidth = 3, color = 'tab:blue', linestyle = '--')
plt.plot([np.max(aa_predictions_round_2['std']),np.max(aa_predictions_round_2['std'])],[0,2e7], linewidth = 3, color = 'tab:orange', linestyle = "--", label = 'max std.')

plt.plot([np.mean(aa_predictions_round_1['std']),np.mean(aa_predictions_round_1['std'])],[0,2e7], linewidth = 3, color = 'tab:blue', linestyle = '-', label = 'mean std.')
plt.plot([np.mean(aa_predictions_round_2['std']),np.mean(aa_predictions_round_2['std'])],[0,2e7], linewidth = 3, color = 'tab:orange', linestyle = "-")

plt.xlabel("confidence width",fontsize = 15)
plt.ylabel("frequency",fontsize = 15)
plt.legend(fontsize = 15)
plt.subplot(1,2,2)
sns.barplot(x="std", y="variant", data=top_1, label = 'after 1st round', color = 'tab:blue',alpha = 0.5)
sns.barplot(x="std", y="variant", data=top_2, label = 'after 2nd round', color = 'tab:orange', alpha = 0.5)
plt.xlabel("standard deviation",fontsize = 15)
plt.ylabel("variant",fontsize = 15)

plt.legend(fontsize = 15)
plt.savefig("std_reduction.png", dpi=50, pad_inches=0 , bbox_inches="tight" )








































