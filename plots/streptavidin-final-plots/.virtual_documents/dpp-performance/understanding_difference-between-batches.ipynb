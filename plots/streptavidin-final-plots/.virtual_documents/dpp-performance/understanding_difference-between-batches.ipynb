import torch 
import numpy as np 
import matplotlib.pyplot as plt 
from mutedpy.utils.sequences.sequence_utils import add_variant_column
from mutedpy.experiments.streptavidin.streptavidin_loader import *
from sklearn.metrics import r2_score
import seaborn as sns


x,y,d1 = load_first_round()


d1[d1['variant'] == 'TFNAQ']


replicated = d1[d1.duplicated(subset = ['variant'], keep = False)].sort_values(by = 'variant')


replicated_variants = replicated['variant'].unique()
for v in replicated_variants:
    mask = replicated['variant'] == v
    mean_val = replicated[mask]['LogFitness'].mean()
    replicated.loc[mask,'disagreement'] = np.std(replicated[mask]['LogFitness'] - mean_val)


plt.figure(figsize=(20,20))
sns.boxplot(data=replicated, x="disagreement", y="well")
plt.plot(np.arange(0,100,1)*0.+0.15,np.arange(0,100,1),'k--')
#plt.xticks(rotation = 90)


d1[d1['well']=='C5']


d1[d1['variant'] == 'TFNAQ']['LogFitness'].mean()


x3, y3, d3 = load_third_round()
d3['round'] = '3rd'
x4, y4, d4 = load_last_round()


selection = d4[d4['round'] == "4th"]
selection = pd.concat([d3, selection])


selection = selection[['variant','LogFitness','class','round']]


selection = selection.groupby('variant').agg({'LogFitness': 'mean', 'class': 'first','round':'first'}).reset_index()


selection


aa = selection[selection["class"] == "3rd_aa_balanced"]


# load predictions in the second round by the models
round_2_predictions_aa = pd.read_csv("../../../mutedpy/experiments/streptavidin/active_learning_2/AA_model/lists/predictions-aa.csv")
round_2_predictions_aa['ranking'] = np.arange(1,len(round_2_predictions_aa)+1,1)
intersection_df = pd.merge(round_2_predictions_aa, selection, on='variant', how='inner')
print (np.mean((intersection_df['LogFitness'].values - intersection_df['mean'].values)**2))

# how many of the ones selected were predicted to be high? 


df = intersection_df[['variant','mean','lcb','ucb','LogFitness','class','ranking','round']]


df.head(20)


intersection_df['class'].unique()


intersection_df['residual'] = np.abs(intersection_df['LogFitness'] - intersection_df['mean'])


#subset_df = df[df['class'].isin(["3rd_aa_balanced","3rd_aa_safe"])]

sns.violinplot(data=intersection_df, palette="light:g", inner="points", orient="h", x = 'LogFitness', y = 'class')



def pr(x):
    if x is not None:
        if "safe" in x: 
            return "safe"
        elif "balanced" in x:
            return "balanced"
        else:
            return "other"
    return "other"
intersection_df['risk'] =  intersection_df['class'].apply(pr) 



sns.violinplot(data=intersection_df, palette="light:g", orient="h", x = 'LogFitness', y = 'risk')



mask_safe = intersection_df['risk'] == 'safe'


intersection_df[mask_safe].sort_values(by = 'LogFitness').head(10)


intersection_df2 = intersection_df[intersection_df['class'].isin(["3rd_geo_balanced","3rd_geo_safe"])]
sns.violinplot(data=intersection_df2, palette="light:g", inner="points", orient="h", x = 'LogFitness', y = 'class')



indices = np.argsort(-intersection_df['LogFitness'].values)
intersection_df['ranking_real'] = indices
indices = np.argsort(-intersection_df['mean'].values)
intersection_df['ranking'] = indices


## remove the largest outliers
res = (intersection_df['LogFitness']-intersection_df['mean'])**2
indices = np.argsort(-res)
mask = indices[0:]

mask = intersection_df['class'] != '3rd_NAN_chimera'


plt.plot(intersection_df['LogFitness'][mask],intersection_df['mean'][mask],'o')
plt.plot(intersection_df['LogFitness'][mask],intersection_df['LogFitness'][mask],'--')
plt.plot(intersection_df['LogFitness'][mask],intersection_df['LogFitness'][mask]+0.15,'--')
plt.plot(intersection_df['LogFitness'][mask],intersection_df['LogFitness'][mask]-0.15,'--')

r2_score(intersection_df['LogFitness'][mask],intersection_df['mean'][mask])







