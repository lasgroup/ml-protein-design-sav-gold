import numpy as np
import matplotlib.pyplot as plt
from mpl_toolkits.mplot3d import Axes3D

# Generate two vectors in 2D space
v1 = np.array([2, 3])
v2 = np.array([1, 4])

# Calculate the parallelogram spanned by the two vectors
parallelogram = np.array([v1, v2, v1 + v2])

# Calculate the area (volume in 3D) of the parallelogram
volume = np.linalg.det(np.array([v1, v2]))

# Plot the vectors and the parallelogram
fig = plt.figure(figsize=(10, 8))
ax = fig.add_subplot(111, projection='3d')

# Plot the parallelogram
ax.plot([0, parallelogram[0, 0]], [0, parallelogram[0, 1]], [0, 0], color='blue')
ax.plot([0, parallelogram[1, 0]], [0, parallelogram[1, 1]], [0, 0], color='red')
ax.plot([parallelogram[0, 0], parallelogram[2, 0]],
         [parallelogram[0, 1], parallelogram[2, 1]],
         [0, 0],
         color='green')
ax.plot([parallelogram[1, 0], parallelogram[2, 0]],
         [parallelogram[1, 1], parallelogram[2, 1]],
         [0, 0],
         color='purple')

# Plot the volume of the parallelogram
x = [0, parallelogram[0, 0], parallelogram[2, 0], parallelogram[1, 0], 0]
y = [0, parallelogram[0, 1], parallelogram[2, 1], parallelogram[1, 1], 0]
z = [0, 0, 0, 0, 0]
ax.plot_trisurf(x, y, z, color='cyan', alpha=0.5)

ax.set_xlabel('X')
ax.set_ylabel('Y')
ax.set_zlabel('Z')
ax.set_title(f'Volume (Area) of the Parallelogram: {abs(volume):.2f}')

plt.show()



