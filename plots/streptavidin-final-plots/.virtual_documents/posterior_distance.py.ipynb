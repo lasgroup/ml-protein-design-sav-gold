import pandas as pd
import torch
from mutedpy.experiments.streptavidin.active_learning.compare_different_models import load_model_and_mean_std, load_model


params = "./../../mutedpy/experiments/streptavidin/active_learning_2/AA_model/params/final_model_params.p"
model, embed = load_model(params,"name")


x = model.x
K = model.mean_std(x, full=True)[1]


n = K.size()[0]
diagK = torch.diag(K).view(-1,1)
D = torch.tile(diagK,(1,n)) + torch.tile(diagK.T,(n,1)) - K
print (D.size())


D




diagK


diagK[0] + diagK[1] -K[0,1]




