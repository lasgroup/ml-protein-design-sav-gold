import numpy as np
import torch
from mutedpy.experiments.streptavidin.streptavidin_loader import *


x,y, dts = load_last_round()


dts


dts = dts[["category","Fitness","LogFitness","variant","Mutation"]]


predictions = pd.read_csv("../../../mutedpy/experiments/streptavidin/active_learning_3/AA_model/lists/predictions-aa_Jan_05.csv")


predictions.head(10)


predictions = predictions[["Mutation","mean","std","lcb","ucb"]]


predictions


merged = dts.merge(predictions, on='Mutation', how='inner')


merged_sorted = merged.sort_values('LogFitness')


merged_sorted


import seaborn as sns
import matplotlib.pyplot as plt


safe_mask = merged_sorted["category"]=="safe"
balanced_mask = merged_sorted["category"]=="balanced"


final_safe = merged_sorted["category"]=="5-safe"
final_balanced = merged_sorted["category"]=="5-balanced"

merged_sorted[final_safe]


plt.figure(figsize = (30,10))
x = np.arange(0,len(merged),1)
for mask, color in zip([safe_mask, balanced_mask, final_safe, final_balanced], ["tab:green", "tab:red", "tab:brown", "tab:orange"]):
    plt.plot(x[mask],merged_sorted[mask]['LogFitness'].values, color = 'tab:blue', marker = 'x', linestyle = '')
    plt.errorbar(x[mask], merged_sorted[mask]['mean'].values,yerr= (merged_sorted[mask]['mean'].values-merged_sorted[mask]['lcb'].values, merged_sorted[mask]['ucb'].values-merged_sorted[mask]['mean'].values), color = color, marker = 'o', linestyle = '')
plt.xticks(x,merged_sorted['variant'],rotation=90)







