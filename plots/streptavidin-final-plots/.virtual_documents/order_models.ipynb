import torch 
import seaborn as sns
import pandas as pd
import numpy as np 


res = pd.read_html("../../mutedpy/experiments/streptavidin/results_strep/table_subset.html")[0]


mask = np.zeros(len(res))
for i,a in enumerate(res['name']):
    if a[0:3] == 'new':
        mask[i] = 1


df = res[mask.astype(bool)]


df


df



