import torch 
import matplotlib.pyplot as plt 
import numpy as np
import seaborn as sns 
import pandas as pd 
from mutedpy.experiments.streptavidin.streptavidin_loader import *
from sklearn.metrics import r2_score
from mutedpy.experiments.streptavidin.streptavidin_loader import tobias_colors


aa_predictions_round_2 = pd.read_csv("../../../mutedpy/experiments/streptavidin/active_learning_2/AA_model/lists/predictions-aa.csv")


# load the proposed scheme
selection = pd.read_csv("../../../mutedpy/experiments/streptavidin/active_learning_2/AA_model/lists/safe+balanced-aa.csv")['variant']


# Lets pick top prediction from round_2


top_predictions = aa_predictions_round_2.head(240)['variant']


from mutedpy.protein_learning.kernels.blosum_kernel import blosum_kernel 
from mutedpy.protein_learning.kernels.hamming_kernel import hamming_kernel
from mutedpy.protein_learning.kernels.onehot_kernel import onehot_kernel


# load model 
from mutedpy.experiments.streptavidin.active_learning.compare_different_models import load_model
from mutedpy.utils.protein_operator import ProteinOperator
Op = ProteinOperator()
model_params = "/../../../mutedpy/experiments/streptavidin/active_learning_2/AA_model/params/final_model_params.p"
GP, embed, paramns = load_model(model_params, "second round fit", vintage = True, model_params_return = True)
#GP.feature_loader.feature_loaders[0].stacking = False


def calculate_div_score(variants):
    x = embed(torch.from_numpy(Op.translate_mutation_series(variants)))
    _, K_opt = GP.mean_std(x, full=True)
    n = len(variants)
    #print (K_opt)
    print (torch.linalg.slogdet(K_opt))
    return float(torch.exp(torch.linalg.slogdet(K_opt)[1]*(1./n) - np.log(torch.trace(K_opt)/n)))


td = calculate_div_score(top_predictions)


sd = calculate_div_score(selection)


def calculate_div_score_custom_kernel(kernel, variants):
    n = len(variants)
    K_opt = kernel(variants, variants) + GP.s * torch.eye(n).double()
    return float(torch.exp(torch.linalg.slogdet(K_opt)[1]*(1./n) - np.log(torch.trace(K_opt)/n)))


tb, sb = calculate_div_score_custom_kernel(blosum_kernel, top_predictions), calculate_div_score_custom_kernel(blosum_kernel, selection)


th, sh = calculate_div_score_custom_kernel(onehot_kernel, top_predictions), calculate_div_score_custom_kernel(onehot_kernel, selection)


ratiod = sd/td
ratiob = sb/tb
ratioh = sh/th


ratioh


ratiod





data_frame = pd.DataFrame(data = {'Diversity score':[tb,sb,td,sd,th,sh],'Diversity type':['BLOSUM','BLOSUM','GP','GP','Hamming','Hamming'],'Batch':['TopX','Our selection','TopX','Our selection','TopX','Our selection']})


data_frame["log Diversity score"] = -np.log(data_frame["Diversity score"])


import seaborn as sns
import matplotlib.pyplot as plt

g = sns.catplot(
    data=data_frame, kind="bar",
    x="Diversity type", y="Diversity score", hue="Batch", palette="dark", alpha=.6, height =3, aspect=2)
g._legend.set_bbox_to_anchor((0.5, 0.5))

for e,ratio in enumerate([ratiob, ratiod, ratioh]):
    ax = g.ax
    ax.annotate("+"+str(-int(100-100*(ratio))) +"%",
                xy=(0.2+e, 0.1), xycoords='data',
                xytext=(-0.2+e, 0.05), textcoords='data',
                arrowprops=dict(arrowstyle="->",
                                connectionstyle="arc3"))
    
plt.savefig("diversity.pdf",dpi = 200,bbox_inches='tight')
plt.show()







