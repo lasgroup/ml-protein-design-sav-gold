import torch 
import numpy as np 
import matplotlib.pyplot as plt 
from mutedpy.utils.sequences.sequence_utils import add_variant_column
from mutedpy.experiments.streptavidin.streptavidin_loader import *


x3, y3, d3 = load_third_round()
x4, y4, d4 = load_last_round()


selection = d4[d4['round'] == "4th"]
selection = pd.concat([d3, selection])


selection = selection[['variant','LogFitness','class']]
selection = selection.groupby('variant').agg({'LogFitness': 'mean', 'class': 'first'}).reset_index()


mask_above = selection['LogFitness'] > np.log10(8.625)


print (np.sum(mask_above)/len(selection))


selection['class'].unique()


selection[selection['class'] == '3rd_NAN_chimera']


collumns_to_take_into_account = ['3rd_aa_safe', '3rd_ro_safe','3rd_ro_balanced', '3rd_aa_balanced', '4th_balanced', '4th_safe']
mask_s = selection['class'].isin(collumns_to_take_into_account)
mask_above = selection[mask_s]['LogFitness'] > np.log10(8.625)
print (np.sum(mask_above)/len(selection[mask_s]))


collumns_to_take_into_account = ['3rd_aa_safe', '3rd_ro_safe','3rd_ro_balanced', '3rd_aa_balanced', '4th_balanced', '4th_safe', '4th_aa-5-balanced', '4th_5-balanced','4th_top10-5-balanced', '4th_aa-top10-5-balanced','4th_aa-5-safe']
mask_s = selection['class'].isin(collumns_to_take_into_account)
mask_above = selection[mask_s]['LogFitness'] > np.log10(8.625)
print (np.sum(mask_above)/len(selection[mask_s]))


selection[mask_s]



